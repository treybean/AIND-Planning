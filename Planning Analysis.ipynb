{
 "cells": [
  {
   "cell_type": "markdown",
   "metadata": {},
   "source": [
    "Air Cargo Planning Analysis\n",
    "=============="
   ]
  },
  {
   "cell_type": "code",
   "execution_count": 1,
   "metadata": {
    "collapsed": true,
    "deletable": true,
    "editable": true
   },
   "outputs": [],
   "source": [
    "import pandas as pd\n",
    "import numpy as np\n",
    "import matplotlib.pyplot as plt"
   ]
  },
  {
   "cell_type": "code",
   "execution_count": 2,
   "metadata": {
    "collapsed": true,
    "deletable": true,
    "editable": true
   },
   "outputs": [],
   "source": [
    "search_functions = ['breadth_first_search',\n",
    "                    'breadth_first_tree_search', \n",
    "                    'depth_first_graph_search',\n",
    "                    'depth_limited_search',\n",
    "                    'uniform_cost_search',\n",
    "                    'recursive_best_first_search h_1',\n",
    "                    'greedy_best_first_graph_search h_1',\n",
    "                    'astar_search h_1',\n",
    "                    'astar_search h_ignore_preconditions',\n",
    "                    'astar_search h_pg_levelsum']\n",
    "\n",
    "problems = ['Air Cargo Problem 1', 'Air Cargo Problem 2', 'Air Cargo Problem 3']"
   ]
  },
  {
   "cell_type": "markdown",
   "metadata": {},
   "source": [
    "Initial uninformed search results:"
   ]
  },
  {
   "cell_type": "code",
   "execution_count": 15,
   "metadata": {
    "collapsed": false
   },
   "outputs": [
    {
     "name": "stdout",
     "output_type": "stream",
     "text": [
      "                Problem            Search Function  Expansions  Goal Tests  \\\n",
      "0   Air Cargo Problem 1       breadth_first_search        43.0        56.0   \n",
      "1   Air Cargo Problem 1  breadth_first_tree_search      1458.0      1459.0   \n",
      "2   Air Cargo Problem 1   depth_first_graph_search        21.0        22.0   \n",
      "3   Air Cargo Problem 1       depth_limited_search       101.0       271.0   \n",
      "4   Air Cargo Problem 1        uniform_cost_search        55.0        57.0   \n",
      "5   Air Cargo Problem 2       breadth_first_search      3343.0      4609.0   \n",
      "6   Air Cargo Problem 2  breadth_first_tree_search         NaN         NaN   \n",
      "7   Air Cargo Problem 2   depth_first_graph_search       624.0       625.0   \n",
      "8   Air Cargo Problem 2       depth_limited_search         NaN         NaN   \n",
      "9   Air Cargo Problem 2        uniform_cost_search      4852.0      4854.0   \n",
      "10  Air Cargo Problem 3       breadth_first_search     14663.0     18098.0   \n",
      "11  Air Cargo Problem 3  breadth_first_tree_search         NaN         NaN   \n",
      "12  Air Cargo Problem 3   depth_first_graph_search       408.0       409.0   \n",
      "13  Air Cargo Problem 3       depth_limited_search         NaN         NaN   \n",
      "14  Air Cargo Problem 3        uniform_cost_search     18223.0     18225.0   \n",
      "\n",
      "    New Nodes  Plan Length        Time  \n",
      "0       180.0          6.0    0.052134  \n",
      "1      5960.0          6.0    1.405409  \n",
      "2        84.0         20.0    0.018530  \n",
      "3       414.0         50.0    0.147500  \n",
      "4       224.0          6.0    0.081317  \n",
      "5     30509.0          9.0   23.547821  \n",
      "6         NaN          NaN         NaN  \n",
      "7      5602.0        619.0    5.016421  \n",
      "8         NaN          NaN         NaN  \n",
      "9     44030.0          9.0   21.607970  \n",
      "10   129631.0         12.0  164.912724  \n",
      "11        NaN          NaN         NaN  \n",
      "12     3364.0        392.0    2.808046  \n",
      "13        NaN          NaN         NaN  \n",
      "14   159618.0         12.0   87.200490  \n"
     ]
    }
   ],
   "source": [
    "columns = ['Problem', 'Search Function', 'Expansions', 'Goal Tests', 'New Nodes', 'Plan Length', 'Time']\n",
    "\n",
    "uninformed_search_data = [[problems[0], search_functions[0], 43, 56, 180, 6, 0.05213361400819849],\n",
    "                          [problems[0], search_functions[1], 1458, 1459, 5960, 6, 1.405408664009883],\n",
    "                          [problems[0], search_functions[2], 21, 22, 84, 20, 0.01853007500176318],\n",
    "                          [problems[0], search_functions[3], 101, 271, 414, 50, 0.1474998549965676],\n",
    "                          [problems[0], search_functions[4], 55, 57, 224, 6, 0.08131684199906886],\n",
    "                          [problems[1], search_functions[0], 3343, 4609, 30509, 9, 23.547820659005083],\n",
    "                          [problems[1], search_functions[1]],\n",
    "                          [problems[1], search_functions[2], 624, 625, 5602, 619, 5.01642145900405],\n",
    "                          [problems[1], search_functions[3]],\n",
    "                          [problems[1], search_functions[4], 4852, 4854, 44030, 9, 21.60797010899114],\n",
    "                          [problems[2], search_functions[0], 14663, 18098, 129631, 12, 164.91272390699305],\n",
    "                          [problems[2], search_functions[1]],\n",
    "                          [problems[2], search_functions[2], 408, 409, 3364, 392, 2.8080455220042495],\n",
    "                          [problems[2], search_functions[3]],\n",
    "                          [problems[2], search_functions[4], 18223, 18225, 159618, 12, 87.20048963800946],\n",
    "                         ]\n",
    "\n",
    "uninformed_search_results = pd.DataFrame(uninformed_search_data, columns=columns)\n",
    "\n",
    "print(uninformed_search_results)"
   ]
  },
  {
   "cell_type": "code",
   "execution_count": null,
   "metadata": {
    "collapsed": true
   },
   "outputs": [],
   "source": []
  }
 ],
 "metadata": {
  "kernelspec": {
   "display_name": "Python 3",
   "language": "python",
   "name": "python3"
  },
  "language_info": {
   "codemirror_mode": {
    "name": "ipython",
    "version": 3
   },
   "file_extension": ".py",
   "mimetype": "text/x-python",
   "name": "python",
   "nbconvert_exporter": "python",
   "pygments_lexer": "ipython3",
   "version": "3.6.0"
  }
 },
 "nbformat": 4,
 "nbformat_minor": 2
}
